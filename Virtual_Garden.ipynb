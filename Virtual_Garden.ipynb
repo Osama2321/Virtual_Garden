{
 "cells": [
  {
   "cell_type": "code",
   "execution_count": 1,
   "id": "17b46e34",
   "metadata": {},
   "outputs": [],
   "source": [
    "class Plant():\n",
    "    def __init__(self,name,harvest_field):\n",
    "        self.name=name\n",
    "        self.harvest_field=harvest_field\n",
    "        self.growth_stages=['seed','sprout','nature','flower','fruit','harvest_ready']\n",
    "        self.current_stage=self.growth_stages[0]\n",
    "        self.harvestable=False\n",
    "    \n",
    "    def grow(self):\n",
    "        current_index=self.growth_stages.index(self.current_stage)\n",
    "        if current_index < len(self.growth_stages)-1:\n",
    "            self.current_stage=self.growth_stages[current_index+1]\n",
    "            if self.current_stage == self.growth_stages[-1]:\n",
    "                self.harvest_field=True\n",
    "                \n",
    "        elif self.current_stage==self.growth_stages[-1]:\n",
    "            print(f\"{self.name} is already fully grown\")\n",
    "    \n",
    "    def harvest(self):\n",
    "        if self.harvestable:\n",
    "            self.harvestable=False\n",
    "            return self.harvest_yield\n",
    "        else:\n",
    "            print(f\"{self.name} is not harvestable\")"
   ]
  },
  {
   "cell_type": "code",
   "execution_count": 2,
   "id": "73f333db",
   "metadata": {},
   "outputs": [],
   "source": [
    "class Tomato(Plant):\n",
    "    def __init__(self):\n",
    "        super().__init__('tomato',10)\n",
    "        \n",
    "class Potato(Plant):\n",
    "    def __init__(self):\n",
    "        super().__init__('potato',10)\n",
    "        self.growth_stages=['seed','sprout','nature','harvest_ready']\n",
    "        \n",
    "class Carrot(Plant):\n",
    "    def __init__(self):\n",
    "        super().__init__('carrot',10)\n",
    "        self.growth_stages=['seed','sprout','nature','harvest_ready']\n"
   ]
  },
  {
   "cell_type": "code",
   "execution_count": 3,
   "id": "57b2199c",
   "metadata": {},
   "outputs": [],
   "source": [
    "import random\n",
    "seeds=['tomato','potato','carrot']"
   ]
  },
  {
   "cell_type": "code",
   "execution_count": 4,
   "id": "1a3ebbb7",
   "metadata": {},
   "outputs": [
    {
     "data": {
      "text/plain": [
       "['tomato', 'potato', 'carrot']"
      ]
     },
     "execution_count": 4,
     "metadata": {},
     "output_type": "execute_result"
    }
   ],
   "source": [
    "inventory={'tomato':4,'potato':10,'carrot':5}\n",
    "list(inventory.keys())"
   ]
  },
  {
   "cell_type": "code",
   "execution_count": 5,
   "id": "4d249a52",
   "metadata": {},
   "outputs": [],
   "source": [
    "def select_seed(items):\n",
    "    if type(items)==dict:\n",
    "        item_list=list(items.keys())\n",
    "    else:\n",
    "        item_list=items\n",
    "        \n",
    "    for i in range(len(item_list)):\n",
    "        try:\n",
    "            item_name=item_list[i].name\n",
    "        except:    \n",
    "            item_name=item_list[i]\n",
    "            print(f\"{i+1} {item_name}\")\n",
    "\n",
    "    while True:\n",
    "        user_input=input(\"Enter your choice : \")\n",
    "        try:\n",
    "            user_input=int(user_input)\n",
    "            if user_input>0 and user_input<=len(item_list):\n",
    "                return item_list[user_input-1]\n",
    "            else:\n",
    "                print(\"Invalid option\")\n",
    "        except:\n",
    "             print(\"Invalid option\")"
   ]
  },
  {
   "cell_type": "code",
   "execution_count": 6,
   "id": "73110051",
   "metadata": {},
   "outputs": [],
   "source": [
    "class Gardener():\n",
    "    plant_dict={\"tomato\":Tomato,\"potato\":Potato,\"carrot\":Carrot}\n",
    "    \n",
    "    def __init__(self,name):\n",
    "        self.name=name\n",
    "        self.inventory={}\n",
    "        self.planted=[]\n",
    "        \n",
    "    def get_seeds(self):\n",
    "        seed= random.choice(seeds)\n",
    "        \n",
    "        if seed not in self.inventory:\n",
    "            self.inventory[seed]=1\n",
    "        else:\n",
    "            self.inventory[seed]+=1\n",
    "        print(f\"{self.name} has found {seed}\")    \n",
    "    def plant(self):\n",
    "        selected_plant=select_seed(self.inventory)\n",
    "        \n",
    "        if selected_plant in self.inventory and self.inventory[selected_plant]>0:\n",
    "            self.inventory[selected_plant]-=1\n",
    "            if self.inventory[selected_plant]==0:\n",
    "                del self.inventory[selected_plant]\n",
    "            new_plant=self.plant_dict[selected_plant]()\n",
    "            \n",
    "            self.planted.append(new_plant)\n",
    "            print(f\"{self.name} has planted {selected_plant} plant\")\n",
    "            \n",
    "        else:\n",
    "            print(f\"{selected_plant} does not exists\")\n",
    "    \n",
    "    def tend(self):\n",
    "        for plant in self.planted:\n",
    "            if not plant.harvestable:\n",
    "                plant.grow()\n",
    "                print(f\"{plant.name} is on {plant.current_stage} stage\")\n",
    "            else:\n",
    "                print(f\"{plant.name} is harvestable\")\n",
    "                \n",
    "    def harvest(self):\n",
    "        pass\n",
    "            \n",
    "        \n",
    "        "
   ]
  },
  {
   "cell_type": "code",
   "execution_count": 8,
   "id": "157803a3",
   "metadata": {},
   "outputs": [
    {
     "name": "stdout",
     "output_type": "stream",
     "text": [
      "*************\n",
      "What is gardener name : Osama\n",
      "Welcome to Osama ! Type help for valid commands\n",
      "What you want to do : help\n",
      "***Available***\n",
      "help\n",
      "seed\n",
      "plant\n",
      "tend\n",
      "quit\n",
      "What you want to do : seed\n",
      "Osama has found potato\n",
      "What you want to do : plant\n",
      "1 potato\n",
      "Enter your choice : 1\n",
      "Osama has planted potato plant\n",
      "What you want to do : tend\n",
      "potato is on sprout stage\n",
      "What you want to do : tend\n",
      "potato is on nature stage\n",
      "What you want to do : tend\n",
      "potato is on harvest_ready stage\n",
      "What you want to do : tend\n",
      "potato is already fully grown\n",
      "potato is on harvest_ready stage\n",
      "What you want to do : quit\n",
      "Thank you ! Come Again\n"
     ]
    }
   ],
   "source": [
    "valid_commads=['help','seed','plant','tend','quit']\n",
    "print(\"*************\")\n",
    "gardener_name=input(\"What is gardener name : \")\n",
    "print(f\"Welcome to {gardener_name} ! Type help for valid commands\")\n",
    "gardener=Gardener(gardener_name)\n",
    "\n",
    "while True:\n",
    "    gardener_action=input(\"What you want to do : \")\n",
    "    gardener_action=gardener_action.lower()\n",
    "    if gardener_action in valid_commads:\n",
    "        if gardener_action=='help':\n",
    "            print(\"***Available***\")\n",
    "            for command in valid_commads:\n",
    "                print(command)\n",
    "        elif gardener_action=='seed':\n",
    "            gardener.get_seeds()\n",
    "        elif gardener_action=='plant':\n",
    "            gardener.plant()\n",
    "        elif gardener_action=='tend':\n",
    "            gardener.tend()\n",
    "        elif gardener_action=='quit':\n",
    "            print(\"Thank you ! Come Again\")\n",
    "            break\n",
    "    else:\n",
    "        print(\"Invalid Commads\")\n",
    "        "
   ]
  },
  {
   "cell_type": "code",
   "execution_count": null,
   "id": "9ed07b20",
   "metadata": {},
   "outputs": [],
   "source": [
    "new=Gardener(\"Osama\")"
   ]
  },
  {
   "cell_type": "code",
   "execution_count": null,
   "id": "5ee2c4fb",
   "metadata": {},
   "outputs": [],
   "source": [
    "new.name"
   ]
  },
  {
   "cell_type": "code",
   "execution_count": null,
   "id": "2023d853",
   "metadata": {},
   "outputs": [],
   "source": [
    "new.inventory"
   ]
  },
  {
   "cell_type": "code",
   "execution_count": null,
   "id": "dc7fab6b",
   "metadata": {},
   "outputs": [],
   "source": [
    "new.get_seeds()"
   ]
  },
  {
   "cell_type": "code",
   "execution_count": null,
   "id": "d149d8d7",
   "metadata": {},
   "outputs": [],
   "source": [
    "new.inventory"
   ]
  },
  {
   "cell_type": "code",
   "execution_count": null,
   "id": "80bd1a24",
   "metadata": {},
   "outputs": [],
   "source": [
    "new.get_seeds()"
   ]
  },
  {
   "cell_type": "code",
   "execution_count": null,
   "id": "bea410d6",
   "metadata": {},
   "outputs": [],
   "source": [
    "new.inventory"
   ]
  },
  {
   "cell_type": "code",
   "execution_count": null,
   "id": "f571dac7",
   "metadata": {},
   "outputs": [],
   "source": [
    "new.get_seeds()"
   ]
  },
  {
   "cell_type": "code",
   "execution_count": null,
   "id": "001decce",
   "metadata": {},
   "outputs": [],
   "source": [
    "new.inventory"
   ]
  },
  {
   "cell_type": "code",
   "execution_count": null,
   "id": "4d16e2d3",
   "metadata": {},
   "outputs": [],
   "source": [
    "new.plant()"
   ]
  },
  {
   "cell_type": "code",
   "execution_count": null,
   "id": "a1a479e2",
   "metadata": {},
   "outputs": [],
   "source": [
    "new.inventory"
   ]
  },
  {
   "cell_type": "code",
   "execution_count": null,
   "id": "9d06c722",
   "metadata": {},
   "outputs": [],
   "source": [
    "new.tend()"
   ]
  },
  {
   "cell_type": "code",
   "execution_count": null,
   "id": "4f170d43",
   "metadata": {},
   "outputs": [],
   "source": [
    "new.tend()"
   ]
  },
  {
   "cell_type": "code",
   "execution_count": null,
   "id": "a7abd5f5",
   "metadata": {},
   "outputs": [],
   "source": [
    "new.tend()"
   ]
  },
  {
   "cell_type": "code",
   "execution_count": null,
   "id": "e752ad5a",
   "metadata": {},
   "outputs": [],
   "source": [
    "new.tend()"
   ]
  },
  {
   "cell_type": "code",
   "execution_count": null,
   "id": "ba6ae6d0",
   "metadata": {},
   "outputs": [],
   "source": [
    "new.tend()"
   ]
  },
  {
   "cell_type": "code",
   "execution_count": null,
   "id": "318f279d",
   "metadata": {},
   "outputs": [],
   "source": [
    "new.tend()"
   ]
  },
  {
   "cell_type": "code",
   "execution_count": null,
   "id": "1c049112",
   "metadata": {},
   "outputs": [],
   "source": [
    "inventory={'tomato':4,'potato':10,'carrot':5}\n",
    "list(inventory.keys())"
   ]
  },
  {
   "cell_type": "code",
   "execution_count": null,
   "id": "5c7708d8",
   "metadata": {},
   "outputs": [],
   "source": [
    "def select_seed(items):\n",
    "    item_list=list(items.keys())\n",
    "    for i in range(len(item_list)):\n",
    "        item_name=item_list[i]\n",
    "        print(f\"{i+1} {item_name}\")\n",
    "        \n",
    "    while True:\n",
    "        user_input=input(\"Enter your choice : \")\n",
    "        try:\n",
    "            user_input=int(user_input)\n",
    "            if user_input>0 and user_input<len(item_list):\n",
    "                return item_list[user_input-1]\n",
    "            else:\n",
    "                print(\"Invalid option\")\n",
    "        except:\n",
    "             print(\"Invalid option\")\n",
    "            \n"
   ]
  },
  {
   "cell_type": "code",
   "execution_count": null,
   "id": "87a1dfdc",
   "metadata": {},
   "outputs": [],
   "source": [
    "select_seed(inventory)"
   ]
  },
  {
   "cell_type": "code",
   "execution_count": null,
   "id": "b4e8a829",
   "metadata": {},
   "outputs": [],
   "source": [
    "tomato=Plant('Tomato',10)"
   ]
  },
  {
   "cell_type": "code",
   "execution_count": null,
   "id": "7899dc40",
   "metadata": {},
   "outputs": [],
   "source": [
    "tomato.current_stage"
   ]
  },
  {
   "cell_type": "code",
   "execution_count": null,
   "id": "bc3cec05",
   "metadata": {},
   "outputs": [],
   "source": [
    "\n",
    "tomato.harvest()"
   ]
  },
  {
   "cell_type": "code",
   "execution_count": null,
   "id": "6012094a",
   "metadata": {},
   "outputs": [],
   "source": [
    "tomato.grow()\n",
    "tomato.current_stage"
   ]
  },
  {
   "cell_type": "code",
   "execution_count": null,
   "id": "46ba2491",
   "metadata": {},
   "outputs": [],
   "source": [
    "tomato.grow()\n",
    "tomato.current_stage"
   ]
  },
  {
   "cell_type": "code",
   "execution_count": null,
   "id": "293b635b",
   "metadata": {},
   "outputs": [],
   "source": [
    "tomato.grow()\n",
    "tomato.current_stage"
   ]
  },
  {
   "cell_type": "code",
   "execution_count": null,
   "id": "64aa860f",
   "metadata": {},
   "outputs": [],
   "source": [
    "tomato.grow()\n",
    "tomato.current_stage"
   ]
  },
  {
   "cell_type": "code",
   "execution_count": null,
   "id": "5a0adfd1",
   "metadata": {},
   "outputs": [],
   "source": [
    "tomato.grow()\n",
    "tomato.current_stage"
   ]
  },
  {
   "cell_type": "code",
   "execution_count": null,
   "id": "1c06d184",
   "metadata": {},
   "outputs": [],
   "source": [
    "tomato.grow()\n",
    "tomato.current_stage"
   ]
  },
  {
   "cell_type": "code",
   "execution_count": null,
   "id": "27166354",
   "metadata": {},
   "outputs": [],
   "source": [
    "tomato.harvest()"
   ]
  },
  {
   "cell_type": "code",
   "execution_count": null,
   "id": "9a097232",
   "metadata": {},
   "outputs": [],
   "source": [
    "item=['carrot']\n",
    "len(item)"
   ]
  },
  {
   "cell_type": "code",
   "execution_count": null,
   "id": "9671df4f",
   "metadata": {},
   "outputs": [],
   "source": []
  }
 ],
 "metadata": {
  "kernelspec": {
   "display_name": "Python 3 (ipykernel)",
   "language": "python",
   "name": "python3"
  },
  "language_info": {
   "codemirror_mode": {
    "name": "ipython",
    "version": 3
   },
   "file_extension": ".py",
   "mimetype": "text/x-python",
   "name": "python",
   "nbconvert_exporter": "python",
   "pygments_lexer": "ipython3",
   "version": "3.10.6"
  }
 },
 "nbformat": 4,
 "nbformat_minor": 5
}
